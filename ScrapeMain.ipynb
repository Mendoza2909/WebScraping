{
 "cells": [
  {
   "cell_type": "code",
   "execution_count": 1,
   "metadata": {
    "collapsed": false
   },
   "outputs": [],
   "source": [
    "import urllib\n",
    "from urllib import request\n",
    "from bs4 import BeautifulSoup\n",
    "import selenium\n",
    "from selenium import webdriver\n",
    "from selenium.webdriver.common.keys import Keys  \n",
    "from selenium.webdriver.chrome.options import Options  \n",
    "from selenium import webdriver\n",
    "from selenium.common.exceptions import TimeoutException\n",
    "from selenium.webdriver.common.by import By\n",
    "from selenium.webdriver.support.ui import WebDriverWait\n",
    "from selenium.webdriver.support import expected_conditions as EC\n",
    "\n",
    "import time\n",
    " \n",
    "# Wait for 5 seconds\n",
    "time.sleep(5)\n",
    " \n",
    "# Wait for 300 milliseconds\n",
    "# .3 can also be \n",
    "\n",
    " \n"
   ]
  },
  {
   "cell_type": "code",
   "execution_count": 2,
   "metadata": {
    "collapsed": true
   },
   "outputs": [],
   "source": [
    "chrome_options = Options()  \n",
    "chrome_options.add_argument(\"--headless\")  \n",
    "#chrome_options.binary_location = '/Applications/Google Chrome   Canary.app/Contents/MacOS/Google Chrome Canary'`   \n",
    "\n",
    "chromedriver_path = 'C:/Program Files (x86)/ChromeDriver/chromedriver_win32/chromedriver.exe'\n",
    "\n",
    "driver = webdriver.Chrome(executable_path = chromedriver_path)\n",
    "#driver = webdriver.Chrome(executable_path = chromedriver_path, chrome_options = chrome_options )"
   ]
  },
  {
   "cell_type": "code",
   "execution_count": 3,
   "metadata": {
    "collapsed": false
   },
   "outputs": [],
   "source": [
    "web_page = 'https://adviserinfo.sec.gov/'\n",
    "\n",
    "driver.get(web_page)"
   ]
  },
  {
   "cell_type": "code",
   "execution_count": 4,
   "metadata": {
    "collapsed": false
   },
   "outputs": [
    {
     "name": "stdout",
     "output_type": "stream",
     "text": [
      "Page is ready!\n",
      "Page is ready!\n"
     ]
    }
   ],
   "source": [
    "#Navigate through first page\n",
    "company_name = 'Two Creeks Capital'\n",
    "\n",
    "individual_button_id = 'btnIndl'\n",
    "firm_button_id = 'btnFirm'\n",
    "\n",
    "#firm_button_id = 'ctl00_cphMain_sbox_rdoFirm'\n",
    "company_text_area_id = 'ctl00_cphMain_sbox_txtFirm'\n",
    "search_button_id = 'ctl00_cphMain_sbox_searchBtn'\n",
    "search_details_button_class = 'searchdetailsbutton'\n",
    "\n",
    "login_wait = WebDriverWait(driver, 10)\n",
    "\n",
    "\n",
    "\n",
    "#Can't just click a span element\n",
    "# element = driver.find_element_by_id(individual_button_id)\n",
    "# driver.execute_script(\"arguments[0].click();\", element)\n",
    "# print(firm_button.get_attribute(name = 'class'))\n",
    "\n",
    "#Can't just click a span element\n",
    "firm_button = driver.find_element_by_id(firm_button_id)\n",
    "driver.execute_script(\"arguments[0].click();\", firm_button)\n",
    "\n",
    "#driver.find_element_by_xpath(\"//span[@id = 'btnFirm']\").click();\n",
    "\n",
    "#print(firm_button.get_attribute(name = 'class'))\n",
    "\n",
    "try:  \n",
    "    \n",
    "    elem = login_wait.until(EC.visibility_of_element_located((By.ID, company_text_area_id)))\n",
    "    print(\"Page is ready!\")\n",
    "        \n",
    "    company_text_area = driver.find_element_by_id(company_text_area_id)\n",
    "    driver.execute_script(\"arguments[0].scrollIntoView();\", company_text_area)\n",
    "    company_text_area.send_keys(company_name)\n",
    "\n",
    "    #company_text_area.click()\n",
    "    \n",
    "    #elem.send_keys(Keys.RETURN)\n",
    "except TimeoutException:\n",
    "    print(\"Loading took too much time!\")  \n",
    "\n",
    "\n",
    "search_button = driver.find_element_by_id(search_button_id)\n",
    "\n",
    "search_button.click()\n",
    "\n",
    "\n",
    "try:  \n",
    "    \n",
    "    elem = login_wait.until(EC.visibility_of_element_located((By.CLASS_NAME, search_details_button_class)))\n",
    "    print(\"Page is ready!\")\n",
    "        \n",
    "    search_details = driver.find_element_by_class_name(search_details_button_class)\n",
    "    driver.execute_script(\"arguments[0].scrollIntoView();\", search_details)\n",
    "    search_details.click()\n",
    "\n",
    "    #company_text_area.click()\n",
    "    \n",
    "    #elem.send_keys(Keys.RETURN)\n",
    "except TimeoutException:\n",
    "    print(\"Loading took too much time!\")  \n",
    "\n",
    "\n"
   ]
  },
  {
   "cell_type": "code",
   "execution_count": null,
   "metadata": {
    "collapsed": true
   },
   "outputs": [],
   "source": [
    "\n",
    "time.sleep(5)\n",
    " "
   ]
  },
  {
   "cell_type": "code",
   "execution_count": null,
   "metadata": {
    "collapsed": true
   },
   "outputs": [],
   "source": []
  }
 ],
 "metadata": {
  "anaconda-cloud": {},
  "kernelspec": {
   "display_name": "Python [conda root]",
   "language": "python",
   "name": "conda-root-py"
  },
  "language_info": {
   "codemirror_mode": {
    "name": "ipython",
    "version": 3
   },
   "file_extension": ".py",
   "mimetype": "text/x-python",
   "name": "python",
   "nbconvert_exporter": "python",
   "pygments_lexer": "ipython3",
   "version": "3.5.4"
  }
 },
 "nbformat": 4,
 "nbformat_minor": 2
}
