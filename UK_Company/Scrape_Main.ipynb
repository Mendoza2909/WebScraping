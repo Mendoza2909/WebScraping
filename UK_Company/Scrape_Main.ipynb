{
 "cells": [
  {
   "cell_type": "code",
   "execution_count": 1,
   "metadata": {
    "collapsed": false
   },
   "outputs": [],
   "source": [
    "import urllib\n",
    "from urllib import request\n",
    "from bs4 import BeautifulSoup\n",
    "import selenium\n",
    "from selenium import webdriver\n",
    "from selenium.webdriver.common.keys import Keys  \n",
    "from selenium.webdriver.chrome.options import Options  \n",
    "from selenium import webdriver\n",
    "from selenium.common.exceptions import TimeoutException\n",
    "from selenium.webdriver.common.by import By\n",
    "from selenium.webdriver.support.ui import WebDriverWait\n",
    "from selenium.webdriver.support import expected_conditions as EC\n",
    "import time\n",
    "import os.path "
   ]
  },
  {
   "cell_type": "code",
   "execution_count": 2,
   "metadata": {
    "collapsed": true
   },
   "outputs": [],
   "source": [
    "save_path = 'S:\\\\Actuarial\\\\Python\\\\WebScraping\\\\UK_Company\\\\'\n",
    "pdf_save_path = 'S:\\\\Actuarial\\\\Python\\\\WebScraping\\\\UK_Company'\n",
    "\n",
    "save_path = 'C:\\\\Users\\\\Colin\\\\WebScraping\\\\UK_Company\\\\'\n",
    "pdf_save_path = 'C:\\\\Users\\\\Colin\\\\WebScraping\\\\UK_Company'\n",
    "\n"
   ]
  },
  {
   "cell_type": "code",
   "execution_count": 3,
   "metadata": {
    "collapsed": true
   },
   "outputs": [],
   "source": [
    "def close_ad():\n",
    "    #For when popup ad appears \n",
    "    try:\n",
    "        page_wait = WebDriverWait(driver,2)\n",
    "        ad_button_xpath = \"//a[@class = 'acsCloseButton acsAbandonButton ']\"\n",
    "        ad_button = page_wait.until(EC.visibility_of_element_located((By.XPATH, \"//a[@class = 'acsCloseButton acsAbandonButton ']\")))       \n",
    "        print(\"ad button found\")\n",
    "        ad_button.click()\n",
    "    except TimeoutException:\n",
    "        print(\"ad not found\")\n",
    "        #More error catching needed?"
   ]
  },
  {
   "cell_type": "code",
   "execution_count": 4,
   "metadata": {
    "collapsed": false
   },
   "outputs": [],
   "source": [
    "chrome_options = Options()  \n",
    "#chrome_options.add_argument(\"--headless\") \n",
    "chrome_options.add_experimental_option(\"prefs\", {\n",
    "  \"download.default_directory\": save_path,\n",
    "  \"download.prompt_for_download\": False,\n",
    "  \"download.directory_upgrade\": True,\n",
    "  \"safebrowsing.enabled\": True ,\n",
    "  \"add_experimental_option\": True\n",
    " \n",
    "})\n"
   ]
  },
  {
   "cell_type": "code",
   "execution_count": 5,
   "metadata": {
    "collapsed": false
   },
   "outputs": [],
   "source": [
    "chromedriver_path = 'C:/Program Files (x86)/ChromeDriver/chromedriver_win32/chromedriver.exe'\n",
    "\n",
    "driver = webdriver.Chrome(executable_path = chromedriver_path, chrome_options = chrome_options)\n",
    "\n",
    "driver.command_executor._commands[\"send_command\"] = (\"POST\", '/session/$sessionId/chromium/send_command')\n",
    "params = {'cmd': 'Page.setDownloadBehavior', 'params': {'behavior': 'allow', 'downloadPath': save_path}}\n",
    "command_result = driver.execute(\"send_command\", params)\n"
   ]
  },
  {
   "cell_type": "code",
   "execution_count": 6,
   "metadata": {
    "collapsed": false
   },
   "outputs": [],
   "source": [
    "company_name = '7526411'\n",
    "company_name = '7529401'\n",
    "webpage = 'https://beta.companieshouse.gov.uk//search//companies'\n",
    "driver.get(webpage)\n",
    "html = driver.page_source"
   ]
  },
  {
   "cell_type": "code",
   "execution_count": 7,
   "metadata": {
    "collapsed": false
   },
   "outputs": [],
   "source": [
    "login_wait = WebDriverWait(driver, 10)"
   ]
  },
  {
   "cell_type": "code",
   "execution_count": 8,
   "metadata": {
    "collapsed": false
   },
   "outputs": [
    {
     "name": "stdout",
     "output_type": "stream",
     "text": [
      "ad not found\n",
      "Page is ready!\n",
      "ad not found\n",
      "Page is ready!\n"
     ]
    }
   ],
   "source": [
    "company_text_area_id = 'site-search-text'\n",
    "search_button_id = 'search-submit'\n",
    "login_wait = WebDriverWait(driver, 10)\n",
    "\n",
    "close_ad()\n",
    "try:  \n",
    "    elem = login_wait.until(EC.visibility_of_element_located((By.ID, company_text_area_id)))\n",
    "    print(\"Page is ready!\")\n",
    "    company_text_area = driver.find_element_by_id(company_text_area_id)\n",
    "    driver.execute_script(\"arguments[0].scrollIntoView();\", company_text_area)\n",
    "    company_text_area.send_keys(company_name)\n",
    "    \n",
    "except TimeoutException:\n",
    "    print(\"Loading took too much time!\")  \n",
    "\n",
    "search_button = driver.find_element_by_id(search_button_id)\n",
    "\n",
    "search_button.click()\n",
    "\n",
    "company_link_href = '/company/' + str(company_name).zfill(8) \n",
    "company_link_xpath = \"//a[@href =  '\" +  company_link_href + \"']\"\n",
    "\n",
    "close_ad()\n",
    "\n",
    "try:  \n",
    "    \n",
    "    company_link_xpath = \"//a[@href =  '\" +  company_link_href + \"']\"\n",
    "    \n",
    "    elem = login_wait.until(EC.visibility_of_element_located((By.XPATH, company_link_xpath)))\n",
    "    print(\"Page is ready!\")    \n",
    "\n",
    "    company_link = driver.find_element_by_xpath(company_link_xpath)\n",
    "    \n",
    "    company_link.click();    \n",
    "\n",
    "except TimeoutException:\n",
    "    print(\"Loading took too much time company link\")      \n"
   ]
  },
  {
   "cell_type": "code",
   "execution_count": 9,
   "metadata": {
    "collapsed": false
   },
   "outputs": [
    {
     "name": "stdout",
     "output_type": "stream",
     "text": [
      "Active\n"
     ]
    }
   ],
   "source": [
    "html = driver.page_source\n",
    "soup = BeautifulSoup(html,\"lxml\")\n",
    "item_id = \"company-status\"\n",
    "result = soup.find('dd',id = {item_id})\n",
    "print(result.text.strip())"
   ]
  },
  {
   "cell_type": "code",
   "execution_count": 10,
   "metadata": {
    "collapsed": false
   },
   "outputs": [],
   "source": [
    "# print(result)"
   ]
  },
  {
   "cell_type": "code",
   "execution_count": 11,
   "metadata": {
    "collapsed": false
   },
   "outputs": [
    {
     "name": "stdout",
     "output_type": "stream",
     "text": [
      "7529401\n",
      "PIONEER UNDERWRITING LTD\n",
      "Active\n",
      "65120 - Non-life insurance\n",
      "7 Bishopsgate 7 Bishopsgate, London, EC2N 3AR\n",
      "Private limited Company\n",
      "31 December 2016\n",
      "4 April 2018\n"
     ]
    }
   ],
   "source": [
    "class get_company_info():\n",
    "#Requires that soup already initialised\n",
    "\n",
    "    def __init__ (self):\n",
    "        self.office_address = x\n",
    "     \n",
    "    def company_name():\n",
    "        tag = 'p'\n",
    "        tag_name = \"company-name\"\n",
    "        result = soup.find(tag,id = {tag_name})        \n",
    "        return (result.text.strip())\n",
    "    \n",
    "    def company_status():\n",
    "        tag = 'dd'\n",
    "        tag_name = \"company-status\"\n",
    "        result = soup.find(tag,id = {tag_name})        \n",
    "        return (result.text.strip())\n",
    "    \n",
    "    def office_address():\n",
    "        tag = 'dd'\n",
    "        tag_name = \"text data\"\n",
    "        result = soup.find(tag,class_ = {tag_name})        \n",
    "        return (result.text.strip())\n",
    "    \n",
    "    def company_type():\n",
    "        tag = 'dd'\n",
    "        tag_name = \"company-type\"\n",
    "        result = soup.find(tag,id = {tag_name})        \n",
    "        return (result.text.strip())\n",
    "\n",
    "    def last_accounts_date():\n",
    "        tag = 'strong'\n",
    "        #tag_name = \"heading_medium\"\n",
    "        result = soup.find_all(tag) \n",
    "        #Bit messy\n",
    "        return (result[5].text.strip())  \n",
    "    \n",
    "    def last_statement_date():\n",
    "        tag = 'strong'\n",
    "        tag_name = \"text data\"\n",
    "        try:\n",
    "            result = soup.find_all(tag) \n",
    "        #Bit messy\n",
    "            return (result[9].text.strip())  \n",
    "        except IndexError:  \n",
    "            return \"Last statement date not found\"\n",
    "            \n",
    "    def nature_of_business():\n",
    "        tag = 'span'\n",
    "        tag_name = \"sic0\"\n",
    "        result = soup.find(tag,id = {tag_name})        \n",
    "        return (result.text.strip())\n",
    "\n",
    "print(company_name)\n",
    "print(get_company_info.company_name()) \n",
    "print(get_company_info.company_status()) \n",
    "print(get_company_info.nature_of_business())\n",
    "print(get_company_info.office_address()) \n",
    "print(get_company_info.company_type())\n",
    "print(get_company_info.last_accounts_date())\n",
    "print(get_company_info.last_statement_date())\n",
    "\n",
    "company_name = get_company_info.company_name()\n",
    "company_status = get_company_info.company_status()\n",
    "nature_of_business = get_company_info.nature_of_business()\n",
    "office_address = get_company_info.office_address() \n",
    "company_type = get_company_info.company_type()\n",
    "last_accounts_date = get_company_info.last_accounts_date()\n",
    "last_statement_date = get_company_info.last_statement_date()\n"
   ]
  },
  {
   "cell_type": "code",
   "execution_count": 12,
   "metadata": {
    "collapsed": false
   },
   "outputs": [],
   "source": [
    "#Get filing history\n",
    "last_accounts_year = last_accounts_date[-4:]\n",
    "#print(last_accounts_year)\n",
    "\n",
    "#Click filing tab\n",
    "filing_tab_id = 'filing-history-tab'\n",
    "filing_tab_button = driver.find_element_by_id(filing_tab_id)\n",
    "filing_tab_button.click()"
   ]
  },
  {
   "cell_type": "code",
   "execution_count": 13,
   "metadata": {
    "collapsed": false
   },
   "outputs": [
    {
     "data": {
      "text/plain": [
       "<selenium.webdriver.support.wait.WebDriverWait (session=\"3dd4cc34e60b01eb4a686440b80af094\")>"
      ]
     },
     "execution_count": 13,
     "metadata": {},
     "output_type": "execute_result"
    }
   ],
   "source": [
    "accounts_checkbox_id = 'filter-category-accounts'\n",
    "if  not(driver.find_element_by_id(accounts_checkbox_id).is_selected()):   \n",
    "    driver.find_element_by_id(accounts_checkbox_id).click()\n",
    "\n",
    "WebDriverWait(driver, 2)"
   ]
  },
  {
   "cell_type": "code",
   "execution_count": null,
   "metadata": {
    "collapsed": false
   },
   "outputs": [],
   "source": []
  },
  {
   "cell_type": "code",
   "execution_count": 14,
   "metadata": {
    "collapsed": false
   },
   "outputs": [
    {
     "name": "stdout",
     "output_type": "stream",
     "text": [
      "https://beta.companieshouse.gov.uk/company/07529401/filing-history\n"
     ]
    }
   ],
   "source": [
    "print(driver.current_url)"
   ]
  },
  {
   "cell_type": "code",
   "execution_count": 15,
   "metadata": {
    "collapsed": false
   },
   "outputs": [
    {
     "name": "stdout",
     "output_type": "stream",
     "text": [
      "<selenium.webdriver.remote.webelement.WebElement (session=\"3dd4cc34e60b01eb4a686440b80af094\", element=\"0.6174434652504002-1\")>\n"
     ]
    }
   ],
   "source": [
    "pdf =  driver.find_elements_by_class_name(\"download\")[0]\n",
    "# pdf = driver.find_elements_by_xpath(\"//class = 'download'\")\n",
    "#pdf = driver.find_element_by_xpath(\"/div[0]\")\n",
    "\n",
    "# \"//a[@class = 'acsCloseButton acsAbandonButton ']\"\n",
    "print(pdf)\n",
    "# pdf_save_path = 'S:\\\\Actuarial\\\\Python\\\\WebScraping\\\\UK_Company'\n",
    "\n",
    "script = \"arguments[0].setAttribute('download','\" + pdf_save_path + \"');\"\n",
    "\n",
    "driver.execute_script(script, pdf);\n",
    "#driver.execute_script(\"arguments[0].setAttribute('download');\", pdf);\n",
    "pdf.click();   "
   ]
  },
  {
   "cell_type": "code",
   "execution_count": 16,
   "metadata": {
    "collapsed": false
   },
   "outputs": [],
   "source": [
    "# download_link_class = \"download\"\n",
    "# #Click the first download link, which are the most recent accounts\n",
    "# driver.find_elements_by_class_name(download_link_class)[0].click()\n",
    "# #This opens the accounts in a new tab, the following line switches to that\n",
    "# driver.switch_to.window(driver.window_handles[1])"
   ]
  },
  {
   "cell_type": "code",
   "execution_count": 17,
   "metadata": {
    "collapsed": false
   },
   "outputs": [],
   "source": [
    "# driver.find_elements_by_id(\"plugin\")"
   ]
  },
  {
   "cell_type": "code",
   "execution_count": 18,
   "metadata": {
    "collapsed": false
   },
   "outputs": [],
   "source": [
    "# pdf_id = \"plugin\" \n",
    "\n",
    "# pdf = driver.find_element_by_id(pdf_id)\n",
    "# script = \"arguments[0].setAttribute('download','S:\\\\Actuarial\\\\Python\\\\WebScraping\\\\');\"\n",
    "# driver.execute_script(script, pdf);\n",
    "# #driver.execute_script(\"arguments[0].setAttribute('download');\", pdf);\n",
    "# pdf.click();   "
   ]
  },
  {
   "cell_type": "code",
   "execution_count": null,
   "metadata": {
    "collapsed": true
   },
   "outputs": [],
   "source": []
  }
 ],
 "metadata": {
  "anaconda-cloud": {},
  "kernelspec": {
   "display_name": "Python [conda root]",
   "language": "python",
   "name": "conda-root-py"
  },
  "language_info": {
   "codemirror_mode": {
    "name": "ipython",
    "version": 3
   },
   "file_extension": ".py",
   "mimetype": "text/x-python",
   "name": "python",
   "nbconvert_exporter": "python",
   "pygments_lexer": "ipython3",
   "version": "3.5.4"
  }
 },
 "nbformat": 4,
 "nbformat_minor": 2
}
