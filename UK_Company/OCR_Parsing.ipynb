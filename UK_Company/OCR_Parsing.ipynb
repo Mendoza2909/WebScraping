{
 "cells": [
  {
   "cell_type": "code",
   "execution_count": 1,
   "metadata": {
    "collapsed": true
   },
   "outputs": [],
   "source": [
    "import re\n"
   ]
  },
  {
   "cell_type": "markdown",
   "metadata": {},
   "source": [
    "Auditor XXX\n",
    "Opinion on financial statements narrative XXX\n",
    "Turnover XXX\n",
    "Operating Profit XXX\n",
    "Profit before tax XXX\n",
    "Profit after tax XXX\n",
    "Total current assets XXX\n",
    "Cash at hand  XXX\n",
    "Net assets XXX\n",
    "Profit and loss account XXX\n",
    "Geographic turnover XXX\n",
    "Number of staff XXX\n",
    "Staff salaries XXX"
   ]
  },
  {
   "cell_type": "code",
   "execution_count": null,
   "metadata": {
    "collapsed": true
   },
   "outputs": [],
   "source": [
    "auditor_search = ''\n",
    "auditor_group = "
   ]
  },
  {
   "cell_type": "code",
   "execution_count": null,
   "metadata": {
    "collapsed": true
   },
   "outputs": [],
   "source": []
  },
  {
   "cell_type": "code",
   "execution_count": null,
   "metadata": {
    "collapsed": true
   },
   "outputs": [],
   "source": [
    "search_string_total = 'Total:\\(c\\)\\$.(.*?)\\(f\\)4Part 1A Instruction 5'\n",
    "\n",
    "search_string_non_us = 'clientswhoare non-United States persons\\? \\$.(.*?)Item 5 Information About Your Advisory Business'\n",
    "\n",
    "total_fum = re.search(search_string_total, text).group(1)\n",
    "\n",
    "non_us_fum = re.search(search_string_non_us, text).group(1)\n",
    "\n",
    "non_us_pct = float(non_us_fum.replace(\",\",\"\")) / float(total_fum.replace(\",\",\"\")) \n",
    "\n",
    "\n",
    "print(total_fum)\n",
    "\n",
    "print(non_us_fum)\n",
    "\n",
    "print(non_us_pct)"
   ]
  }
 ],
 "metadata": {
  "anaconda-cloud": {},
  "kernelspec": {
   "display_name": "Python [conda root]",
   "language": "python",
   "name": "conda-root-py"
  },
  "language_info": {
   "codemirror_mode": {
    "name": "ipython",
    "version": 3
   },
   "file_extension": ".py",
   "mimetype": "text/x-python",
   "name": "python",
   "nbconvert_exporter": "python",
   "pygments_lexer": "ipython3",
   "version": "3.5.4"
  }
 },
 "nbformat": 4,
 "nbformat_minor": 1
}
