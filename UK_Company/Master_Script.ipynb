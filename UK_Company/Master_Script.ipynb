{
 "cells": [
  {
   "cell_type": "code",
   "execution_count": 3,
   "metadata": {
    "collapsed": false
   },
   "outputs": [
    {
     "name": "stdout",
     "output_type": "stream",
     "text": [
      "b''\n",
      "b''\n"
     ]
    }
   ],
   "source": [
    "import os\n",
    "from subprocess import *\n",
    "\n",
    "\n"
   ]
  },
  {
   "cell_type": "code",
   "execution_count": 6,
   "metadata": {
    "collapsed": false
   },
   "outputs": [
    {
     "name": "stdout",
     "output_type": "stream",
     "text": [
      "C:\\Users\\Colin\\Documents\\Python\\WebScraping\\UK_Company\n"
     ]
    }
   ],
   "source": [
    "print (os.getcwd())"
   ]
  },
  {
   "cell_type": "code",
   "execution_count": 20,
   "metadata": {
    "collapsed": false
   },
   "outputs": [
    {
     "name": "stdout",
     "output_type": "stream",
     "text": [
      "C:\\Users\\Colin\\Documents\\Python\\WebScraping\\UK_Company\\Scrape_Main.ipynb\n"
     ]
    }
   ],
   "source": [
    "# dirname = os.path.dirname(__file__)\n",
    "dirname = os.getcwd()\n",
    "filename_1 = os.path.join(dirname, 'Scrape_Main.ipynb')\n",
    "\n",
    "print(filename_1)"
   ]
  },
  {
   "cell_type": "code",
   "execution_count": 21,
   "metadata": {
    "collapsed": false
   },
   "outputs": [
    {
     "name": "stdout",
     "output_type": "stream",
     "text": [
      "b''\n",
      "b''\n"
     ]
    }
   ],
   "source": [
    "\n",
    "#run child script 1\n",
    "# p = Popen([r'C:\\childScript1.py', \"ArcView\"], shell=True, stdin=PIPE, stdout=PIPE)\n",
    "p = Popen([filename_1, \"ArcView\"], shell=True, stdin=PIPE, stdout=PIPE)\n",
    "\n",
    "output = p.communicate()\n",
    "print (output[0])\n",
    "\n",
    "#run child script 2\n",
    "p = Popen([r'C:\\childScript2.py', \"ArcEditor\"], shell=True, stdin=PIPE, stdout=PIPE)\n",
    "output = p.communicate()\n",
    "print (output[0])"
   ]
  },
  {
   "cell_type": "code",
   "execution_count": null,
   "metadata": {
    "collapsed": true
   },
   "outputs": [],
   "source": []
  }
 ],
 "metadata": {
  "kernelspec": {
   "display_name": "Python [conda root]",
   "language": "python",
   "name": "conda-root-py"
  },
  "language_info": {
   "codemirror_mode": {
    "name": "ipython",
    "version": 3
   },
   "file_extension": ".py",
   "mimetype": "text/x-python",
   "name": "python",
   "nbconvert_exporter": "python",
   "pygments_lexer": "ipython3",
   "version": "3.5.4"
  }
 },
 "nbformat": 4,
 "nbformat_minor": 1
}
