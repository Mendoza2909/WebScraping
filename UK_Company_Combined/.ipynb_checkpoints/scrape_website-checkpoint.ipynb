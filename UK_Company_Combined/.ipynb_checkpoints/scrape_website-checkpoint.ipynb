{
 "cells": [
  {
   "cell_type": "code",
   "execution_count": 1,
   "metadata": {
    "collapsed": false
   },
   "outputs": [],
   "source": [
    "import urllib\n",
    "from urllib import request\n",
    "from bs4 import BeautifulSoup\n",
    "import selenium\n",
    "from selenium import webdriver\n",
    "from selenium.webdriver.common.keys import Keys  \n",
    "from selenium.webdriver.chrome.options import Options  \n",
    "from selenium import webdriver\n",
    "from selenium.common.exceptions import TimeoutException\n",
    "from selenium.webdriver.common.by import By\n",
    "from selenium.webdriver.support.ui import WebDriverWait\n",
    "from selenium.webdriver.support import expected_conditions as EC\n",
    "import time\n",
    "import os.path "
   ]
  },
  {
   "cell_type": "code",
   "execution_count": 2,
   "metadata": {
    "collapsed": true
   },
   "outputs": [],
   "source": [
    "# company_number = '7526411'\n",
    "# company_number = '7529401'"
   ]
  },
  {
   "cell_type": "code",
   "execution_count": 3,
   "metadata": {
    "collapsed": true
   },
   "outputs": [],
   "source": [
    "# save_path = 'S:\\\\Actuarial\\\\Python\\\\WebScraping\\\\UK_Company\\\\'\n",
    "# pdf_save_path = 'S:\\\\Actuarial\\\\Python\\\\WebScraping\\\\UK_Company'\n",
    "\n",
    "# save_path = 'C:\\\\Users\\\\Colin\\\\WebScraping\\\\UK_Company\\\\'\n",
    "# pdf_save_path = 'C:\\\\Users\\\\Colin\\\\WebScraping\\\\UK_Company'\n"
   ]
  },
  {
   "cell_type": "code",
   "execution_count": 4,
   "metadata": {
    "collapsed": false
   },
   "outputs": [],
   "source": [
    "def close_ad():\n",
    "    #For when popup ad appears \n",
    "    try:\n",
    "        page_wait = WebDriverWait(driver,2)\n",
    "        ad_button_xpath = \"//a[@class = 'acsCloseButton acsAbandonButton ']\"\n",
    "        ad_button = page_wait.until(EC.visibility_of_element_located((By.XPATH, \"//a[@class = 'acsCloseButton acsAbandonButton ']\")))       \n",
    "        print(\"ad button found\")\n",
    "        ad_button.click()\n",
    "    except TimeoutException:\n",
    "        #print(\"\")\n",
    "        None\n",
    "        #More error catching needed?"
   ]
  },
  {
   "cell_type": "code",
   "execution_count": null,
   "metadata": {
    "collapsed": false
   },
   "outputs": [],
   "source": []
  },
  {
   "cell_type": "code",
   "execution_count": 5,
   "metadata": {
    "collapsed": false
   },
   "outputs": [],
   "source": [
    "def go_to_website(company_number):\n",
    "    \n",
    "    chrome_options = Options()  \n",
    "    #chrome_options.add_argument(\"--headless\") \n",
    "    chrome_options.add_experimental_option(\"prefs\", {\n",
    "      \"download.default_directory\": save_path,\n",
    "      \"download.prompt_for_download\": False,\n",
    "      \"download.directory_upgrade\": True,\n",
    "      \"safebrowsing.enabled\": True ,\n",
    "      \"add_experimental_option\": True\n",
    "    })\n",
    "    \n",
    "    chromedriver_path = 'C:/Program Files (x86)/ChromeDriver/chromedriver_win32/chromedriver.exe'\n",
    "\n",
    "    driver = webdriver.Chrome(executable_path = chromedriver_path, chrome_options = chrome_options)\n",
    "\n",
    "    driver.command_executor._commands[\"send_command\"] = (\"POST\", '/session/$sessionId/chromium/send_command')\n",
    "    params = {'cmd': 'Page.setDownloadBehavior', 'params': {'behavior': 'allow', 'downloadPath': save_path}}\n",
    "    command_result = driver.execute(\"send_command\", params)\n",
    "\n",
    "    login_wait = WebDriverWait(driver, 10)\n",
    "\n",
    "    webpage = 'https://beta.companieshouse.gov.uk//search//companies'\n",
    "    driver.get(webpage)\n",
    "    html = driver.page_source\n",
    "    company_text_area_id = 'site-search-text'\n",
    "    search_button_id = 'search-submit'\n",
    "    login_wait = WebDriverWait(driver, 10)\n",
    "\n",
    "    close_ad()\n",
    "    try:  \n",
    "        elem = login_wait.until(EC.visibility_of_element_located((By.ID, company_text_area_id)))\n",
    "        print(\"Page is ready!\")\n",
    "        company_text_area = driver.find_element_by_id(company_text_area_id)\n",
    "        driver.execute_script(\"arguments[0].scrollIntoView();\", company_text_area)\n",
    "        company_text_area.send_keys(company_number)\n",
    "\n",
    "    except TimeoutException:\n",
    "        print(\"Timeout Exception\")  \n",
    "\n",
    "    search_button = driver.find_element_by_id(search_button_id)\n",
    "\n",
    "    search_button.click()\n",
    "\n",
    "    company_link_href = '/company/' + str(company_number).zfill(8) \n",
    "    company_link_xpath = \"//a[@href =  '\" +  company_link_href + \"']\"\n",
    "\n",
    "    close_ad()\n",
    "\n",
    "    try:  \n",
    "\n",
    "        company_link_xpath = \"//a[@href =  '\" +  company_link_href + \"']\"\n",
    "        elem = login_wait.until(EC.visibility_of_element_located((By.XPATH, company_link_xpath)))\n",
    "    #     print(\"Page is ready!\")    \n",
    "        company_link = driver.find_element_by_xpath(company_link_xpath)  \n",
    "        company_link.click();    \n",
    "\n",
    "    except TimeoutException:\n",
    "        print(\"Loading took too much time company link\")   \n",
    "        \n",
    "        \n",
    "    company_name = get_company_info.company_name()\n",
    "    company_status = get_company_info.company_status()\n",
    "    nature_of_business = get_company_info.nature_of_business()\n",
    "    office_address = get_company_info.office_address() \n",
    "    company_type = get_company_info.company_type()\n",
    "    last_accounts_date = get_company_info.last_accounts_date()\n",
    "    last_statement_date = get_company_info.last_statement_date()\n",
    "    \n",
    "    company_info_list = []\n",
    "    company_info_list.append(company_name)\n",
    "    company_info_list.append(company_status)\n",
    "    company_info_list.append(nature_of_business)\n",
    "    company_info_list.append(office_address)\n",
    "    company_info_list.append(company_type)\n",
    "    company_info_list.append(last_accounts_date)\n",
    "    company_info_list.append(last_statement_date)\n",
    "    \n",
    "    \n",
    "    last_accounts_year = last_accounts_date[-4:]\n",
    "\n",
    "    filing_tab_id = 'filing-history-tab'\n",
    "    filing_tab_button = driver.find_element_by_id(filing_tab_id)\n",
    "    filing_tab_button.click()\n",
    "\n",
    "    accounts_checkbox_id = 'filter-category-accounts'\n",
    "    if not(driver.find_element_by_id(accounts_checkbox_id).is_selected()):   \n",
    "        driver.find_element_by_id(accounts_checkbox_id).click()\n",
    "\n",
    "    WebDriverWait(driver, 2)\n",
    "    \n",
    "    \n",
    "    pdf =  driver.find_elements_by_class_name(\"download\")[0]\n",
    "    script = \"arguments[0].setAttribute('download','\" + pdf_save_path + \"');\"\n",
    "    driver.execute_script(script, pdf);\n",
    "    pdf.click(); \n",
    "    \n",
    "    print(\"Saved to \" + pdf_save_path)\n",
    "    return\n",
    "    "
   ]
  },
  {
   "cell_type": "code",
   "execution_count": 6,
   "metadata": {
    "collapsed": false
   },
   "outputs": [],
   "source": [
    "# html = driver.page_source\n",
    "# soup = BeautifulSoup(html,\"lxml\")\n",
    "# item_id = \"company-status\"\n",
    "# result = soup.find('dd',id = {item_id})\n",
    "# print(result.text.strip())"
   ]
  },
  {
   "cell_type": "code",
   "execution_count": 7,
   "metadata": {
    "collapsed": false
   },
   "outputs": [],
   "source": [
    "# print(result)"
   ]
  },
  {
   "cell_type": "code",
   "execution_count": 8,
   "metadata": {
    "collapsed": false
   },
   "outputs": [],
   "source": [
    "class get_company_info():\n",
    "#Requires that soup already initialised\n",
    "\n",
    "    def __init__ (self):\n",
    "        self.office_address = x\n",
    "     \n",
    "    def company_name():\n",
    "        tag = 'p'\n",
    "        tag_name = \"company-name\"\n",
    "        result = soup.find(tag,id = {tag_name})        \n",
    "        return (result.text.strip())\n",
    "    \n",
    "    def company_status():\n",
    "        tag = 'dd'\n",
    "        tag_name = \"company-status\"\n",
    "        result = soup.find(tag,id = {tag_name})        \n",
    "        return (result.text.strip())\n",
    "    \n",
    "    def office_address():\n",
    "        tag = 'dd'\n",
    "        tag_name = \"text data\"\n",
    "        result = soup.find(tag,class_ = {tag_name})        \n",
    "        return (result.text.strip())\n",
    "    \n",
    "    def company_type():\n",
    "        tag = 'dd'\n",
    "        tag_name = \"company-type\"\n",
    "        result = soup.find(tag,id = {tag_name})        \n",
    "        return (result.text.strip())\n",
    "\n",
    "    def last_accounts_date():\n",
    "        tag = 'strong'\n",
    "        #tag_name = \"heading_medium\"\n",
    "        result = soup.find_all(tag) \n",
    "        #Bit messy\n",
    "        return (result[5].text.strip())  \n",
    "    \n",
    "    def last_statement_date():\n",
    "        tag = 'strong'\n",
    "        tag_name = \"text data\"\n",
    "        try:\n",
    "            result = soup.find_all(tag) \n",
    "        #Bit messy\n",
    "            return (result[9].text.strip())  \n",
    "        except IndexError:  \n",
    "            return \"Last statement date not found\"\n",
    "            \n",
    "    def nature_of_business():\n",
    "        tag = 'span'\n",
    "        tag_name = \"sic0\"\n",
    "        result = soup.find(tag,id = {tag_name})        \n",
    "        return (result.text.strip())\n",
    "\n",
    "# print(company_name)\n",
    "# print(get_company_info.company_name()) \n",
    "# print(get_company_info.company_status()) \n",
    "# print(get_company_info.nature_of_business())\n",
    "# print(get_company_info.office_address()) \n",
    "# print(get_company_info.company_type())\n",
    "# print(get_company_info.last_accounts_date())\n",
    "# print(get_company_info.last_statement_date())\n",
    "\n"
   ]
  },
  {
   "cell_type": "code",
   "execution_count": 9,
   "metadata": {
    "collapsed": false
   },
   "outputs": [
    {
     "ename": "NameError",
     "evalue": "name 'driver' is not defined",
     "output_type": "error",
     "traceback": [
      "\u001b[0;31m---------------------------------------------------------------------------\u001b[0m",
      "\u001b[0;31mNameError\u001b[0m                                 Traceback (most recent call last)",
      "\u001b[0;32m<ipython-input-9-ae936dd69682>\u001b[0m in \u001b[0;36m<module>\u001b[0;34m()\u001b[0m\n\u001b[0;32m----> 1\u001b[0;31m \u001b[0mgo_to_website\u001b[0m\u001b[1;33m(\u001b[0m\u001b[0mcompany_number\u001b[0m\u001b[1;33m)\u001b[0m\u001b[1;33m\u001b[0m\u001b[0m\n\u001b[0m",
      "\u001b[0;32m<ipython-input-5-15b6cbe801a3>\u001b[0m in \u001b[0;36mgo_to_website\u001b[0;34m(company_number)\u001b[0m\n\u001b[1;32m     28\u001b[0m     \u001b[0mlogin_wait\u001b[0m \u001b[1;33m=\u001b[0m \u001b[0mWebDriverWait\u001b[0m\u001b[1;33m(\u001b[0m\u001b[0mdriver\u001b[0m\u001b[1;33m,\u001b[0m \u001b[1;36m10\u001b[0m\u001b[1;33m)\u001b[0m\u001b[1;33m\u001b[0m\u001b[0m\n\u001b[1;32m     29\u001b[0m \u001b[1;33m\u001b[0m\u001b[0m\n\u001b[0;32m---> 30\u001b[0;31m     \u001b[0mclose_ad\u001b[0m\u001b[1;33m(\u001b[0m\u001b[1;33m)\u001b[0m\u001b[1;33m\u001b[0m\u001b[0m\n\u001b[0m\u001b[1;32m     31\u001b[0m     \u001b[1;32mtry\u001b[0m\u001b[1;33m:\u001b[0m\u001b[1;33m\u001b[0m\u001b[0m\n\u001b[1;32m     32\u001b[0m         \u001b[0melem\u001b[0m \u001b[1;33m=\u001b[0m \u001b[0mlogin_wait\u001b[0m\u001b[1;33m.\u001b[0m\u001b[0muntil\u001b[0m\u001b[1;33m(\u001b[0m\u001b[0mEC\u001b[0m\u001b[1;33m.\u001b[0m\u001b[0mvisibility_of_element_located\u001b[0m\u001b[1;33m(\u001b[0m\u001b[1;33m(\u001b[0m\u001b[0mBy\u001b[0m\u001b[1;33m.\u001b[0m\u001b[0mID\u001b[0m\u001b[1;33m,\u001b[0m \u001b[0mcompany_text_area_id\u001b[0m\u001b[1;33m)\u001b[0m\u001b[1;33m)\u001b[0m\u001b[1;33m)\u001b[0m\u001b[1;33m\u001b[0m\u001b[0m\n",
      "\u001b[0;32m<ipython-input-4-df46228a0e27>\u001b[0m in \u001b[0;36mclose_ad\u001b[0;34m()\u001b[0m\n\u001b[1;32m      2\u001b[0m     \u001b[1;31m#For when popup ad appears\u001b[0m\u001b[1;33m\u001b[0m\u001b[1;33m\u001b[0m\u001b[0m\n\u001b[1;32m      3\u001b[0m     \u001b[1;32mtry\u001b[0m\u001b[1;33m:\u001b[0m\u001b[1;33m\u001b[0m\u001b[0m\n\u001b[0;32m----> 4\u001b[0;31m         \u001b[0mpage_wait\u001b[0m \u001b[1;33m=\u001b[0m \u001b[0mWebDriverWait\u001b[0m\u001b[1;33m(\u001b[0m\u001b[0mdriver\u001b[0m\u001b[1;33m,\u001b[0m\u001b[1;36m2\u001b[0m\u001b[1;33m)\u001b[0m\u001b[1;33m\u001b[0m\u001b[0m\n\u001b[0m\u001b[1;32m      5\u001b[0m         \u001b[0mad_button_xpath\u001b[0m \u001b[1;33m=\u001b[0m \u001b[1;34m\"//a[@class = 'acsCloseButton acsAbandonButton ']\"\u001b[0m\u001b[1;33m\u001b[0m\u001b[0m\n\u001b[1;32m      6\u001b[0m         \u001b[0mad_button\u001b[0m \u001b[1;33m=\u001b[0m \u001b[0mpage_wait\u001b[0m\u001b[1;33m.\u001b[0m\u001b[0muntil\u001b[0m\u001b[1;33m(\u001b[0m\u001b[0mEC\u001b[0m\u001b[1;33m.\u001b[0m\u001b[0mvisibility_of_element_located\u001b[0m\u001b[1;33m(\u001b[0m\u001b[1;33m(\u001b[0m\u001b[0mBy\u001b[0m\u001b[1;33m.\u001b[0m\u001b[0mXPATH\u001b[0m\u001b[1;33m,\u001b[0m \u001b[1;34m\"//a[@class = 'acsCloseButton acsAbandonButton ']\"\u001b[0m\u001b[1;33m)\u001b[0m\u001b[1;33m)\u001b[0m\u001b[1;33m)\u001b[0m\u001b[1;33m\u001b[0m\u001b[0m\n",
      "\u001b[0;31mNameError\u001b[0m: name 'driver' is not defined"
     ]
    }
   ],
   "source": [
    "# go_to_website(company_number)"
   ]
  },
  {
   "cell_type": "code",
   "execution_count": null,
   "metadata": {
    "collapsed": false
   },
   "outputs": [],
   "source": []
  },
  {
   "cell_type": "code",
   "execution_count": null,
   "metadata": {
    "collapsed": false
   },
   "outputs": [],
   "source": [
    "  "
   ]
  },
  {
   "cell_type": "code",
   "execution_count": null,
   "metadata": {
    "collapsed": true
   },
   "outputs": [],
   "source": []
  }
 ],
 "metadata": {
  "anaconda-cloud": {},
  "kernelspec": {
   "display_name": "Python [conda root]",
   "language": "python",
   "name": "conda-root-py"
  },
  "language_info": {
   "codemirror_mode": {
    "name": "ipython",
    "version": 3
   },
   "file_extension": ".py",
   "mimetype": "text/x-python",
   "name": "python",
   "nbconvert_exporter": "python",
   "pygments_lexer": "ipython3",
   "version": "3.5.4"
  }
 },
 "nbformat": 4,
 "nbformat_minor": 2
}
