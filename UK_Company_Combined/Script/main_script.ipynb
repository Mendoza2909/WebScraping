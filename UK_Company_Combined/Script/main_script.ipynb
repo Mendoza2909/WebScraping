{
 "cells": [
  {
   "cell_type": "code",
   "execution_count": 1,
   "metadata": {
    "collapsed": false
   },
   "outputs": [],
   "source": [
    "import import_ipynb\n",
    "import os\n",
    "from pathlib import Path"
   ]
  },
  {
   "cell_type": "code",
   "execution_count": 2,
   "metadata": {
    "collapsed": false
   },
   "outputs": [
    {
     "name": "stdout",
     "output_type": "stream",
     "text": [
      "importing Jupyter notebook from scrape_website.ipynb\n"
     ]
    }
   ],
   "source": [
    "# import OCR_Conversion\n",
    "# import OCR_Parsing\n",
    "import scrape_website as sw"
   ]
  },
  {
   "cell_type": "code",
   "execution_count": 3,
   "metadata": {
    "collapsed": false
   },
   "outputs": [],
   "source": [
    "# os.path.dirname(os.path.dirname(path))"
   ]
  },
  {
   "cell_type": "code",
   "execution_count": 4,
   "metadata": {
    "collapsed": false
   },
   "outputs": [],
   "source": [
    "p = Path(os.getcwd()).parents[0]"
   ]
  },
  {
   "cell_type": "code",
   "execution_count": 5,
   "metadata": {
    "collapsed": false
   },
   "outputs": [],
   "source": [
    "# str(p) + 's'\n",
    "\n",
    "\n",
    "pdf_path = str(p / \"PDF\")\n",
    "text_path = str(p / \"Script\")"
   ]
  },
  {
   "cell_type": "code",
   "execution_count": 6,
   "metadata": {
    "collapsed": false
   },
   "outputs": [
    {
     "name": "stdout",
     "output_type": "stream",
     "text": [
      "C:\\Users\\Colin\\Documents\\Python\\WebScraping\\UK_Company_Combined\\PDF\n"
     ]
    }
   ],
   "source": [
    "print(pdf_path)"
   ]
  },
  {
   "cell_type": "code",
   "execution_count": 7,
   "metadata": {
    "collapsed": true
   },
   "outputs": [],
   "source": [
    "#output_path = os.getcwd()\n",
    "company_number = '7526411'"
   ]
  },
  {
   "cell_type": "code",
   "execution_count": 8,
   "metadata": {
    "collapsed": false
   },
   "outputs": [
    {
     "name": "stdout",
     "output_type": "stream",
     "text": [
      "Page is ready!\n",
      "Saved to C:\\Users\\Colin\\Documents\\Python\\WebScraping\\UK_Company_Combined\\PDF\n",
      "C:\\Users\\Colin\\Documents\\Python\\WebScraping\\UK_Company_Combined\\PDF\n",
      "C:\\Users\\Colin\\Documents\\Python\\WebScraping\\UK_Company_Combined\\PDF\\application-pdf.pdf\n",
      "C:\\Users\\Colin\\Documents\\Python\\WebScraping\\UK_Company_Combined\\PDF\\7526411.pdf\n"
     ]
    },
    {
     "data": {
      "text/plain": [
       "'FLYING B PRODUCTIONS LTD'"
      ]
     },
     "execution_count": 8,
     "metadata": {},
     "output_type": "execute_result"
    }
   ],
   "source": [
    "sw.go_to_website(company_number,pdf_path,hidden_flag = True)"
   ]
  },
  {
   "cell_type": "code",
   "execution_count": null,
   "metadata": {
    "collapsed": true
   },
   "outputs": [],
   "source": []
  }
 ],
 "metadata": {
  "anaconda-cloud": {},
  "kernelspec": {
   "display_name": "Python [conda root]",
   "language": "python",
   "name": "conda-root-py"
  },
  "language_info": {
   "codemirror_mode": {
    "name": "ipython",
    "version": 3
   },
   "file_extension": ".py",
   "mimetype": "text/x-python",
   "name": "python",
   "nbconvert_exporter": "python",
   "pygments_lexer": "ipython3",
   "version": "3.5.4"
  }
 },
 "nbformat": 4,
 "nbformat_minor": 1
}
