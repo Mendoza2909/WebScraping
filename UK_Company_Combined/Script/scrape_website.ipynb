{
 "cells": [
  {
   "cell_type": "code",
   "execution_count": 1,
   "metadata": {
    "collapsed": false
   },
   "outputs": [],
   "source": [
    "import urllib\n",
    "from urllib import request\n",
    "from bs4 import BeautifulSoup\n",
    "import selenium\n",
    "from selenium import webdriver\n",
    "from selenium.webdriver.common.keys import Keys  \n",
    "from selenium.webdriver.chrome.options import Options  \n",
    "from selenium import webdriver\n",
    "from selenium.common.exceptions import TimeoutException\n",
    "from selenium.webdriver.common.by import By\n",
    "from selenium.webdriver.support.ui import WebDriverWait\n",
    "from selenium.webdriver.support import expected_conditions as EC\n",
    "import time\n",
    "import os.path\n",
    "import os\n",
    "import shutil\n",
    "import glob\n",
    "from pathlib import Path\n"
   ]
  },
  {
   "cell_type": "code",
   "execution_count": 2,
   "metadata": {
    "collapsed": true
   },
   "outputs": [],
   "source": [
    "# company_number = '7526411'\n",
    "# company_number = '7529401'"
   ]
  },
  {
   "cell_type": "code",
   "execution_count": 3,
   "metadata": {
    "collapsed": true
   },
   "outputs": [],
   "source": [
    "# save_path = 'S:\\\\Actuarial\\\\Python\\\\WebScraping\\\\UK_Company\\\\'\n",
    "# pdf_save_path = 'S:\\\\Actuarial\\\\Python\\\\WebScraping\\\\UK_Company'\n",
    "\n",
    "# save_path = 'C:\\\\Users\\\\Colin\\\\WebScraping\\\\UK_Company\\\\'\n",
    "# pdf_save_path = 'C:\\\\Users\\\\Colin\\\\WebScraping\\\\UK_Company'\n"
   ]
  },
  {
   "cell_type": "code",
   "execution_count": 4,
   "metadata": {
    "collapsed": false
   },
   "outputs": [],
   "source": [
    "class get_company_info():\n",
    "\n",
    "    \n",
    "    def __init__ (self):\n",
    "        self.office_address = x\n",
    "     \n",
    "    def company_name(html):\n",
    "        soup = BeautifulSoup(html,\"lxml\")\n",
    "        tag = 'p'\n",
    "        tag_name = \"company-name\"\n",
    "        result = soup.find(tag,id = {tag_name})        \n",
    "        return (result.text.strip())\n",
    "    \n",
    "    def company_status(html):\n",
    "        soup = BeautifulSoup(html,\"lxml\")\n",
    "        tag = 'dd'\n",
    "        tag_name = \"company-status\"\n",
    "        result = soup.find(tag,id = {tag_name})        \n",
    "        return (result.text.strip())\n",
    "    \n",
    "    def office_address(html):\n",
    "        soup = BeautifulSoup(html,\"lxml\")\n",
    "        tag = 'dd'\n",
    "        tag_name = \"text data\"\n",
    "        result = soup.find(tag,class_ = {tag_name})        \n",
    "        return (result.text.strip())\n",
    "    \n",
    "    def company_type(html):\n",
    "        soup = BeautifulSoup(html,\"lxml\")\n",
    "        tag = 'dd'\n",
    "        tag_name = \"company-type\"\n",
    "        result = soup.find(tag,id = {tag_name})        \n",
    "        return (result.text.strip())\n",
    "\n",
    "    def last_accounts_date(html):\n",
    "        soup = BeautifulSoup(html,\"lxml\")\n",
    "        tag = 'strong'\n",
    "        #tag_name = \"heading_medium\"\n",
    "        result = soup.find_all(tag) \n",
    "        #Bit messy\n",
    "        return (result[5].text.strip())  \n",
    "    \n",
    "    def last_statement_date(html):\n",
    "        soup = BeautifulSoup(html,\"lxml\")\n",
    "        tag = 'strong'\n",
    "        tag_name = \"text data\"\n",
    "        try:\n",
    "            result = soup.find_all(tag) \n",
    "        #Bit messy\n",
    "            return (result[9].text.strip())  \n",
    "        except IndexError:  \n",
    "            return \"Last statement date not found\"\n",
    "            \n",
    "    def nature_of_business(html):\n",
    "        soup = BeautifulSoup(html,\"lxml\")\n",
    "        tag = 'span'\n",
    "        tag_name = \"sic0\"\n",
    "        result = soup.find(tag,id = {tag_name})        \n",
    "        return (result.text.strip())\n"
   ]
  },
  {
   "cell_type": "code",
   "execution_count": 5,
   "metadata": {
    "collapsed": false
   },
   "outputs": [],
   "source": [
    "def close_ad():\n",
    "    #For when popup ad appears \n",
    "    try:\n",
    "        page_wait = WebDriverWait(driver,2)\n",
    "        ad_button_xpath = \"//a[@class = 'acsCloseButton acsAbandonButton ']\"\n",
    "        ad_button = page_wait.until(EC.visibility_of_element_located((By.XPATH, \"//a[@class = 'acsCloseButton acsAbandonButton ']\")))       \n",
    "        print(\"ad button found\")\n",
    "        ad_button.click()\n",
    "    except TimeoutException:\n",
    "        #print(\"\")\n",
    "        None\n",
    "        #More error catching needed?"
   ]
  },
  {
   "cell_type": "code",
   "execution_count": 6,
   "metadata": {
    "collapsed": false
   },
   "outputs": [],
   "source": []
  },
  {
   "cell_type": "code",
   "execution_count": 70,
   "metadata": {
    "collapsed": false
   },
   "outputs": [],
   "source": [
    "def go_to_website(company_number,output_path,hidden_flag):\n",
    "    \n",
    "    chrome_options = Options()  \n",
    "    \n",
    "    if hidden_flag == True:\n",
    "        chrome_options.add_argument(\"--headless\")\n",
    "    \n",
    "    chrome_options.add_experimental_option(\"prefs\", {\n",
    "      \"download.default_directory\": output_path,\n",
    "      \"download.prompt_for_download\": False,\n",
    "      \"download.directory_upgrade\": True,\n",
    "      \"safebrowsing.enabled\": True ,\n",
    "      \"add_experimental_option\": True\n",
    "    })\n",
    "    \n",
    "    chromedriver_path = 'C:/Program Files (x86)/ChromeDriver/chromedriver_win32/chromedriver.exe'\n",
    "\n",
    "    driver = webdriver.Chrome(executable_path = chromedriver_path, chrome_options = chrome_options)\n",
    "\n",
    "    driver.command_executor._commands[\"send_command\"] = (\"POST\", '/session/$sessionId/chromium/send_command')\n",
    "    params = {'cmd': 'Page.setDownloadBehavior', 'params': {'behavior': 'allow', 'downloadPath': output_path}}\n",
    "    command_result = driver.execute(\"send_command\", params)\n",
    "\n",
    "    login_wait = WebDriverWait(driver, 10)\n",
    "    \n",
    "    webpage = 'https://beta.companieshouse.gov.uk//search//companies'\n",
    "    driver.get(webpage)\n",
    "    html = driver.page_source\n",
    "    company_text_area_id = 'site-search-text'\n",
    "    search_button_id = 'search-submit'\n",
    "    login_wait = WebDriverWait(driver, 10)\n",
    "    \n",
    "    \n",
    "    \n",
    "    #close_ad()\n",
    "    try:  \n",
    "        elem = login_wait.until(EC.visibility_of_element_located((By.ID, company_text_area_id)))\n",
    "        print(\"Page is ready!\")\n",
    "        company_text_area = driver.find_element_by_id(company_text_area_id)\n",
    "        driver.execute_script(\"arguments[0].scrollIntoView();\", company_text_area)\n",
    "        company_text_area.send_keys(company_number)\n",
    "\n",
    "    except TimeoutException:\n",
    "        print(\"Timeout Exception\")  \n",
    "\n",
    "    search_button = driver.find_element_by_id(search_button_id)\n",
    "\n",
    "    search_button.click()\n",
    "\n",
    "    company_link_href = '/company/' + str(company_number).zfill(8) \n",
    "    company_link_xpath = \"//a[@href =  '\" +  company_link_href + \"']\"\n",
    "\n",
    "    #close_ad()\n",
    "\n",
    "    try:  \n",
    "\n",
    "        company_link_xpath = \"//a[@href =  '\" +  company_link_href + \"']\"\n",
    "        elem = login_wait.until(EC.visibility_of_element_located((By.XPATH, company_link_xpath)))\n",
    "    #     print(\"Page is ready!\")    \n",
    "        company_link = driver.find_element_by_xpath(company_link_xpath)  \n",
    "        company_link.click();    \n",
    "\n",
    "    except TimeoutException:\n",
    "        print(\"Loading took too much time company link\")   \n",
    "        \n",
    "    \n",
    "    \n",
    "    html = driver.page_source\n",
    "    #soup = BeautifulSoup(html,\"lxml\")\n",
    "    #item_id = \"company-status\"\n",
    "    #result = soup.find('dd',id = {item_id})\n",
    "    #print(result.text.strip())\n",
    "    \n",
    "    company_name = get_company_info.company_name(html)\n",
    "    company_status = get_company_info.company_status(html)\n",
    "    nature_of_business = get_company_info.nature_of_business(html)\n",
    "    office_address = get_company_info.office_address(html) \n",
    "    company_type = get_company_info.company_type(html)\n",
    "    last_accounts_date = get_company_info.last_accounts_date(html)\n",
    "    last_statement_date = get_company_info.last_statement_date(html)\n",
    "    \n",
    "    company_info_list = []\n",
    "    company_info_list.append(company_name)\n",
    "    company_info_list.append(company_status)\n",
    "    company_info_list.append(nature_of_business)\n",
    "    company_info_list.append(office_address)\n",
    "    company_info_list.append(company_type)\n",
    "    company_info_list.append(last_accounts_date)\n",
    "    company_info_list.append(last_statement_date)\n",
    "    \n",
    "    \n",
    "    last_accounts_year = last_accounts_date[-4:]\n",
    "\n",
    "    filing_tab_id = 'filing-history-tab'\n",
    "    filing_tab_button = driver.find_element_by_id(filing_tab_id)\n",
    "    filing_tab_button.click()\n",
    "\n",
    "    accounts_checkbox_id = 'filter-category-accounts'\n",
    "    if not(driver.find_element_by_id(accounts_checkbox_id).is_selected()):   \n",
    "        driver.find_element_by_id(accounts_checkbox_id).click()\n",
    "\n",
    "    WebDriverWait(driver, 2)\n",
    "    \n",
    "    \n",
    "    pdf =  driver.find_elements_by_class_name(\"download\")[0]\n",
    "    #script = \"arguments[0].setAttribute('download','\" + pdf_save_path + \"');\"\n",
    "    script = \"arguments[0].setAttribute('download','\" + output_path + \"');\"\n",
    "    \n",
    "    driver.execute_script(script, pdf);\n",
    "    pdf.click(); \n",
    "    \n",
    "    #print(\"Saved to \" + pdf_save_path)\n",
    "    print(\"Saved to \" + output_path)\n",
    "    time.sleep(2) \n",
    "    change_name(output_path,company_number)\n",
    "    \n",
    "    \n",
    "    return company_name\n",
    "    "
   ]
  },
  {
   "cell_type": "code",
   "execution_count": 59,
   "metadata": {
    "collapsed": false
   },
   "outputs": [],
   "source": [
    "# p = Path(os.getcwd()).parents[0]\n",
    "# filepath = str(p / \"PDF\")\n",
    "# company_number = '7526411'\n"
   ]
  },
  {
   "cell_type": "code",
   "execution_count": 72,
   "metadata": {
    "collapsed": false
   },
   "outputs": [
    {
     "name": "stdout",
     "output_type": "stream",
     "text": [
      "Page is ready!\n",
      "Saved to C:\\Users\\Colin\\Documents\\Python\\WebScraping\\UK_Company_Combined\\PDF\n",
      "C:\\Users\\Colin\\Documents\\Python\\WebScraping\\UK_Company_Combined\\PDF\n",
      "C:\\Users\\Colin\\Documents\\Python\\WebScraping\\UK_Company_Combined\\PDF\\application-pdf.pdf\n",
      "C:\\Users\\Colin\\Documents\\Python\\WebScraping\\UK_Company_Combined\\PDF\\7526411.pdf\n"
     ]
    },
    {
     "data": {
      "text/plain": [
       "'FLYING B PRODUCTIONS LTD'"
      ]
     },
     "execution_count": 72,
     "metadata": {},
     "output_type": "execute_result"
    }
   ],
   "source": [
    "# go_to_website(company_number,pdf_path,True)"
   ]
  },
  {
   "cell_type": "code",
   "execution_count": 61,
   "metadata": {
    "collapsed": false
   },
   "outputs": [
    {
     "name": "stdout",
     "output_type": "stream",
     "text": [
      "C:\\Users\\Colin\\Documents\\Python\\WebScraping\\UK_Company_Combined\\PDF\n",
      "C:\\Users\\Colin\\Documents\\Python\\WebScraping\\UK_Company_Combined\\PDF\\application-pdf.pdf\n",
      "C:\\Users\\Colin\\Documents\\Python\\WebScraping\\UK_Company_Combined\\PDF\\7526411.pdf\n"
     ]
    }
   ],
   "source": [
    "# change_name(pdf_path,company_number)"
   ]
  },
  {
   "cell_type": "code",
   "execution_count": 64,
   "metadata": {
    "collapsed": true
   },
   "outputs": [],
   "source": [
    "def change_name(filepath,new_name):\n",
    "    #Change most recent file to number\n",
    "    filename = max(glob.iglob(filepath+'\\\\*.[Pp][Dd][Ff]'), key=os.path.getctime)\n",
    "    print(filepath)\n",
    "    print(filename)\n",
    "    shutil.move(filename,filepath + '\\\\' + new_name+'.pdf')\n",
    "    print(filepath + '\\\\' + new_name+'.pdf')\n",
    "    "
   ]
  },
  {
   "cell_type": "code",
   "execution_count": null,
   "metadata": {
    "collapsed": true
   },
   "outputs": [],
   "source": []
  }
 ],
 "metadata": {
  "anaconda-cloud": {},
  "kernelspec": {
   "display_name": "Python [conda root]",
   "language": "python",
   "name": "conda-root-py"
  },
  "language_info": {
   "codemirror_mode": {
    "name": "ipython",
    "version": 3
   },
   "file_extension": ".py",
   "mimetype": "text/x-python",
   "name": "python",
   "nbconvert_exporter": "python",
   "pygments_lexer": "ipython3",
   "version": "3.5.4"
  }
 },
 "nbformat": 4,
 "nbformat_minor": 2
}
