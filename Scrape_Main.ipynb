{
 "cells": [
  {
   "cell_type": "code",
   "execution_count": 1,
   "metadata": {
    "collapsed": false
   },
   "outputs": [],
   "source": [
    "import urllib\n",
    "from urllib import request\n",
    "from bs4 import BeautifulSoup as soup\n",
    "import selenium\n",
    "from selenium import webdriver\n",
    "from selenium.webdriver.common.keys import Keys  \n",
    "from selenium.webdriver.chrome.options import Options  \n",
    "from selenium import webdriver\n",
    "from selenium.common.exceptions import TimeoutException\n",
    "from selenium.webdriver.common.by import By\n",
    "from selenium.webdriver.support.ui import WebDriverWait\n",
    "from selenium.webdriver.support import expected_conditions as EC\n",
    "\n",
    "import time\n",
    " \n",
    "# Wait for 5 seconds\n",
    "#time.sleep(5)\n",
    " \n"
   ]
  },
  {
   "cell_type": "code",
   "execution_count": 2,
   "metadata": {
    "collapsed": true
   },
   "outputs": [],
   "source": [
    "save_path = 'S:\\\\Actuarial\\\\Python\\\\WebScraping\\\\SavedPDF'"
   ]
  },
  {
   "cell_type": "code",
   "execution_count": 3,
   "metadata": {
    "collapsed": true
   },
   "outputs": [],
   "source": [
    "def close_ad():\n",
    "    #For when popup ad appears \n",
    "    try:\n",
    "        page_wait = WebDriverWait(driver,2)\n",
    "        ad_button_xpath = \"//a[@class = 'acsCloseButton acsAbandonButton ']\"\n",
    "\n",
    "        ad_button = page_wait.until(EC.visibility_of_element_located((By.XPATH, \"//a[@class = 'acsCloseButton acsAbandonButton ']\")))\n",
    "        \n",
    "        print(\"ad button found\")\n",
    "        ad_button.click()\n",
    "    except TimeoutException:\n",
    "        print(\"ad not found\")\n",
    "        #More error catching needed?"
   ]
  },
  {
   "cell_type": "code",
   "execution_count": 4,
   "metadata": {
    "collapsed": true
   },
   "outputs": [],
   "source": [
    "chrome_options = Options()  \n",
    "#chrome_options.add_argument(\"--headless\") \n",
    "chrome_options.add_experimental_option(\"prefs\", {\n",
    "  \"download.default_directory\": \"S:\\\\Actuarial\\\\Python\\\\WebScraping\\\\SavedPDF\",\n",
    "  \"download.prompt_for_download\": False,\n",
    "  \"download.directory_upgrade\": True,\n",
    "  \"safebrowsing.enabled\": True\n",
    "})\n"
   ]
  },
  {
   "cell_type": "code",
   "execution_count": 5,
   "metadata": {
    "collapsed": true
   },
   "outputs": [],
   "source": [
    "chromedriver_path = 'C:/Program Files (x86)/ChromeDriver/chromedriver_win32/chromedriver.exe'\n",
    "\n",
    "\n",
    "driver = webdriver.Chrome(executable_path = chromedriver_path, chrome_options = chrome_options)\n",
    "\n",
    "driver.command_executor._commands[\"send_command\"] = (\"POST\", '/session/$sessionId/chromium/send_command')\n",
    "params = {'cmd': 'Page.setDownloadBehavior', 'params': {'behavior': 'allow', 'downloadPath': save_path}}\n",
    "command_result = driver.execute(\"send_command\", params)\n",
    "\n",
    "#driver = webdriver.Chrome(executable_path = chromedriver_path)\n"
   ]
  },
  {
   "cell_type": "code",
   "execution_count": 6,
   "metadata": {
    "collapsed": false
   },
   "outputs": [],
   "source": [
    "web_page = 'https://adviserinfo.sec.gov/'\n",
    "\n",
    "driver.get(web_page)"
   ]
  },
  {
   "cell_type": "code",
   "execution_count": 7,
   "metadata": {
    "collapsed": false
   },
   "outputs": [
    {
     "name": "stdout",
     "output_type": "stream",
     "text": [
      "ad not found\n",
      "Page is ready!\n",
      "Page is ready!\n"
     ]
    }
   ],
   "source": [
    "#Navigate through first page\n",
    "company_name = 'Two Creeks Capital'\n",
    "\n",
    "individual_button_id = 'btnIndl'\n",
    "firm_button_id = 'btnFirm'\n",
    "\n",
    "#firm_button_id = 'ctl00_cphMain_sbox_rdoFirm'\n",
    "company_text_area_id = 'ctl00_cphMain_sbox_txtFirm'\n",
    "search_button_id = 'ctl00_cphMain_sbox_searchBtn'\n",
    "search_details_button_class = 'searchdetailsbutton'\n",
    "\n",
    "login_wait = WebDriverWait(driver, 10)\n",
    "\n",
    "\n",
    "#Can't just click a span element\n",
    "firm_button = driver.find_element_by_id(firm_button_id)\n",
    "driver.execute_script(\"arguments[0].click();\", firm_button)\n",
    "\n",
    "close_ad()\n",
    "\n",
    "\n",
    "try:  \n",
    "    \n",
    "    elem = login_wait.until(EC.visibility_of_element_located((By.ID, company_text_area_id)))\n",
    "    print(\"Page is ready!\")\n",
    "        \n",
    "    company_text_area = driver.find_element_by_id(company_text_area_id)\n",
    "    driver.execute_script(\"arguments[0].scrollIntoView();\", company_text_area)\n",
    "    company_text_area.send_keys(company_name)\n",
    "\n",
    "\n",
    "except TimeoutException:\n",
    "    print(\"Loading took too much time!\")  \n",
    "\n",
    "search_button = driver.find_element_by_id(search_button_id)\n",
    "\n",
    "search_button.click()\n",
    "\n",
    "try:     \n",
    "    elem = login_wait.until(EC.visibility_of_element_located((By.CLASS_NAME, search_details_button_class)))\n",
    "    print(\"Page is ready!\")\n",
    "        \n",
    "    search_details = driver.find_element_by_class_name(search_details_button_class)\n",
    "    driver.execute_script(\"arguments[0].scrollIntoView();\", search_details)\n",
    "    search_details.click()\n",
    "\n",
    "\n",
    "except TimeoutException:\n",
    "    print(\"Loading took too much time!\")  \n",
    "\n",
    "time.sleep(2)"
   ]
  },
  {
   "cell_type": "code",
   "execution_count": 8,
   "metadata": {
    "collapsed": false
   },
   "outputs": [
    {
     "name": "stdout",
     "output_type": "stream",
     "text": [
      "ad button found\n",
      "Page is ready!\n"
     ]
    }
   ],
   "source": [
    "\n",
    "form_button_id = 'ctl00_cphMain_landing_pdfLink'\n",
    "\n",
    "close_ad()\n",
    "\n",
    "try:  \n",
    "    \n",
    "    elem = login_wait.until(EC.visibility_of_element_located((By.ID, form_button_id)))\n",
    "    print(\"Page is ready!\")    \n",
    "\n",
    "    pdf = driver.find_element_by_id(form_button_id)\n",
    "    script = \"arguments[0].setAttribute('download','S:\\\\Actuarial\\\\Python\\\\WebScraping\\\\SavedPDF');\"\n",
    "    driver.execute_script(script, pdf);\n",
    "    #driver.execute_script(\"arguments[0].setAttribute('download');\", pdf);\n",
    "    pdf.click();    \n",
    "\n",
    "except TimeoutException:\n",
    "    print(\"Loading took too much time!\")      \n"
   ]
  },
  {
   "cell_type": "code",
   "execution_count": null,
   "metadata": {
    "collapsed": true
   },
   "outputs": [],
   "source": []
  },
  {
   "cell_type": "code",
   "execution_count": null,
   "metadata": {
    "collapsed": true
   },
   "outputs": [],
   "source": []
  }
 ],
 "metadata": {
  "anaconda-cloud": {},
  "kernelspec": {
   "display_name": "Python [conda root]",
   "language": "python",
   "name": "conda-root-py"
  },
  "language_info": {
   "codemirror_mode": {
    "name": "ipython",
    "version": 3
   },
   "file_extension": ".py",
   "mimetype": "text/x-python",
   "name": "python",
   "nbconvert_exporter": "python",
   "pygments_lexer": "ipython3",
   "version": "3.5.4"
  }
 },
 "nbformat": 4,
 "nbformat_minor": 2
}
